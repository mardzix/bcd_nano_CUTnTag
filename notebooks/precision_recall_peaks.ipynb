{
 "cells": [
  {
   "cell_type": "code",
   "execution_count": 1,
   "id": "2d456d18-c959-42e3-b1e6-9948ae290add",
   "metadata": {},
   "outputs": [
    {
     "name": "stderr",
     "output_type": "stream",
     "text": [
      "Loading required package: stats4\n",
      "\n",
      "Loading required package: BiocGenerics\n",
      "\n",
      "Loading required package: parallel\n",
      "\n",
      "\n",
      "Attaching package: ‘BiocGenerics’\n",
      "\n",
      "\n",
      "The following objects are masked from ‘package:parallel’:\n",
      "\n",
      "    clusterApply, clusterApplyLB, clusterCall, clusterEvalQ,\n",
      "    clusterExport, clusterMap, parApply, parCapply, parLapply,\n",
      "    parLapplyLB, parRapply, parSapply, parSapplyLB\n",
      "\n",
      "\n",
      "The following objects are masked from ‘package:stats’:\n",
      "\n",
      "    IQR, mad, sd, var, xtabs\n",
      "\n",
      "\n",
      "The following objects are masked from ‘package:base’:\n",
      "\n",
      "    anyDuplicated, append, as.data.frame, basename, cbind, colnames,\n",
      "    dirname, do.call, duplicated, eval, evalq, Filter, Find, get, grep,\n",
      "    grepl, intersect, is.unsorted, lapply, Map, mapply, match, mget,\n",
      "    order, paste, pmax, pmax.int, pmin, pmin.int, Position, rank,\n",
      "    rbind, Reduce, rownames, sapply, setdiff, sort, table, tapply,\n",
      "    union, unique, unsplit, which.max, which.min\n",
      "\n",
      "\n",
      "Loading required package: S4Vectors\n",
      "\n",
      "\n",
      "Attaching package: ‘S4Vectors’\n",
      "\n",
      "\n",
      "The following objects are masked from ‘package:base’:\n",
      "\n",
      "    expand.grid, I, unname\n",
      "\n",
      "\n",
      "Loading required package: IRanges\n",
      "\n",
      "Loading required package: GenomeInfoDb\n",
      "\n"
     ]
    }
   ],
   "source": [
    "library(GenomicRanges)\n",
    "library(ggplot2)\n",
    "library(Signac)\n",
    "library(rtracklayer)\n"
   ]
  },
  {
   "cell_type": "code",
   "execution_count": 2,
   "id": "fcd4e662-ddb6-4bf7-9482-46651425e0f2",
   "metadata": {},
   "outputs": [],
   "source": [
    "peaks.nano.path   <- '/data/proj/GCB_MB/bcd_CT/single-cell/results2/results/precision_recall/nanoCT/peaks/macs2_0.01/H3K27me3_peaks.broadPeak'\n",
    "peaks.scCT.path   <- '/data/proj/GCB_MB/bcd_CT/single-cell/results2/results/precision_recall/scCT/peaks/macs2_0.01/H3K27me3_peaks.broadPeak'\n",
    "peaks.encode.path <- '/data/proj/GCB_MB/bcd_CT/single-cell/results2/results/encode/peaks/peaks_all_merged.bed'\n",
    "\n",
    "blacklist <- '/data/proj/GCB_MB/bcd_CT/single-cell/results2/results/mm10-blacklist.v2.bed'"
   ]
  },
  {
   "cell_type": "code",
   "execution_count": 3,
   "id": "bd3a66a9-c386-4c27-8b80-b9badd558cb0",
   "metadata": {},
   "outputs": [],
   "source": [
    "peaks.nano <- read.table(file = peaks.nano.path)\n",
    "peaks.nano <- GRanges(seqnames = peaks.nano$V1, \n",
    "                      ranges = IRanges(start = peaks.nano$V2, end = peaks.nano$V3),\n",
    "                      name = peaks.nano$V4,\n",
    "                      score = peaks.nano$V5,\n",
    "                      signalValue = peaks.nano$V7,\n",
    "                      pvalue = peaks.nano$V8,\n",
    "                      qvalue = peaks.nano$V9\n",
    "                      )\n",
    "                      "
   ]
  },
  {
   "cell_type": "code",
   "execution_count": 4,
   "id": "65a8b381-5130-4cf7-9e43-aaa65091a985",
   "metadata": {},
   "outputs": [],
   "source": [
    "peaks.scCT <- read.table(file = peaks.scCT.path)\n",
    "peaks.scCT <- GRanges(seqnames = peaks.scCT$V1, \n",
    "                      ranges = IRanges(start = peaks.scCT$V2, end = peaks.scCT$V3),\n",
    "                      name = peaks.scCT$V4,\n",
    "                      score = peaks.scCT$V5,\n",
    "                      signalValue = peaks.scCT$V7,\n",
    "                      pvalue = peaks.scCT$V8,\n",
    "                      qvalue = peaks.scCT$V9\n",
    "                      )\n",
    "                      "
   ]
  },
  {
   "cell_type": "code",
   "execution_count": 5,
   "id": "afa16cc4-dd7d-4040-a952-98ed971b7785",
   "metadata": {},
   "outputs": [],
   "source": [
    "peaks.encode <- rtracklayer::import(peaks.encode.path)"
   ]
  },
  {
   "cell_type": "code",
   "execution_count": 6,
   "id": "cbc1409e-a606-414c-bb45-fb26a2b29e69",
   "metadata": {},
   "outputs": [
    {
     "data": {
      "text/plain": [
       "GRanges object with 31687 ranges and 5 metadata columns:\n",
       "            seqnames              ranges strand |                name     score\n",
       "               <Rle>           <IRanges>  <Rle> |         <character> <integer>\n",
       "      [1] GL456216.1         13691-17549      * |     H3K27me3_peak_1        75\n",
       "      [2] GL456350.1       220897-224982      * |     H3K27me3_peak_2        53\n",
       "      [3] GL456392.1         21859-23453      * |     H3K27me3_peak_3       255\n",
       "      [4] JH584293.1            238-7567      * |     H3K27me3_peak_4        59\n",
       "      [5] JH584293.1         85155-86286      * |     H3K27me3_peak_5        59\n",
       "      ...        ...                 ...    ... .                 ...       ...\n",
       "  [31683]       chrX 169827022-169833161      * | H3K27me3_peak_31683        48\n",
       "  [31684]       chrX 169838065-169973168      * | H3K27me3_peak_31684        49\n",
       "  [31685]       chrX 169986962-169989738      * | H3K27me3_peak_31685        27\n",
       "  [31686]       chrX 169994677-169998422      * | H3K27me3_peak_31686        30\n",
       "  [31687]       chrY   90751216-90757226      * | H3K27me3_peak_31687        38\n",
       "          signalValue    pvalue    qvalue\n",
       "            <numeric> <numeric> <numeric>\n",
       "      [1]     3.57151   9.46117   7.54093\n",
       "      [2]     3.08025   7.14805   5.39117\n",
       "      [3]     6.48066  28.14860  25.51420\n",
       "      [4]     3.22505   7.73208   5.91971\n",
       "      [5]     3.21873   7.72332   5.91466\n",
       "      ...         ...       ...       ...\n",
       "  [31683]     2.99362   6.58768   4.84773\n",
       "  [31684]     2.99339   6.64729   4.91194\n",
       "  [31685]     2.46360   4.26007   2.70961\n",
       "  [31686]     2.55789   4.64505   3.05837\n",
       "  [31687]     2.75729   5.47682   3.81507\n",
       "  -------\n",
       "  seqinfo: 28 sequences from an unspecified genome; no seqlengths"
      ]
     },
     "metadata": {},
     "output_type": "display_data"
    },
    {
     "data": {
      "text/plain": [
       "GRanges object with 24027 ranges and 5 metadata columns:\n",
       "            seqnames            ranges strand |                name     score\n",
       "               <Rle>         <IRanges>  <Rle> |         <character> <integer>\n",
       "      [1] GL456216.1       13729-17498      * |     H3K27me3_peak_1       169\n",
       "      [2] GL456233.1     105814-111565      * |     H3K27me3_peak_2        41\n",
       "      [3] GL456350.1         5490-8597      * |     H3K27me3_peak_3        29\n",
       "      [4] GL456350.1       61188-63155      * |     H3K27me3_peak_4        31\n",
       "      [5] GL456350.1       79987-83082      * |     H3K27me3_peak_5        36\n",
       "      ...        ...               ...    ... .                 ...       ...\n",
       "  [24023]       chrY 90737944-90756048      * | H3K27me3_peak_24023       237\n",
       "  [24024]       chrY 90761105-90777262      * | H3K27me3_peak_24024       172\n",
       "  [24025]       chrY 90783935-90813303      * | H3K27me3_peak_24025        92\n",
       "  [24026]       chrY 90824838-90828560      * | H3K27me3_peak_24026        78\n",
       "  [24027]       chrY 90836489-90839293      * | H3K27me3_peak_24027        63\n",
       "          signalValue    pvalue    qvalue\n",
       "            <numeric> <numeric> <numeric>\n",
       "      [1]     9.22207  19.28490  16.92220\n",
       "      [2]     4.32125   6.05196   4.19594\n",
       "      [3]     3.70578   4.70995   2.93845\n",
       "      [4]     3.79918   4.89859   3.11222\n",
       "      [5]     4.07145   5.49493   3.67173\n",
       "      ...         ...       ...       ...\n",
       "  [24023]    11.11460  26.24150  23.72480\n",
       "  [24024]     8.76715  19.52630  17.23710\n",
       "  [24025]     6.25127  11.26780   9.21107\n",
       "  [24026]     5.89371   9.88679   7.85467\n",
       "  [24027]     5.31469   8.31038   6.32971\n",
       "  -------\n",
       "  seqinfo: 29 sequences from an unspecified genome; no seqlengths"
      ]
     },
     "metadata": {},
     "output_type": "display_data"
    },
    {
     "data": {
      "text/plain": [
       "GRanges object with 28080 ranges and 0 metadata columns:\n",
       "          seqnames              ranges strand\n",
       "             <Rle>           <IRanges>  <Rle>\n",
       "      [1]     chr1     4487539-4489576      *\n",
       "      [2]     chr1     4489716-4491148      *\n",
       "      [3]     chr1     4491645-4493922      *\n",
       "      [4]     chr1     4494137-4495457      *\n",
       "      [5]     chr1     4495633-4496862      *\n",
       "      ...      ...                 ...    ...\n",
       "  [28076]     chrX 169980715-169981216      *\n",
       "  [28077]     chrX 169981379-169982366      *\n",
       "  [28078]     chrX 169982521-169982954      *\n",
       "  [28079]     chrX 169985842-169986098      *\n",
       "  [28080]     chrX 169988801-169989435      *\n",
       "  -------\n",
       "  seqinfo: 20 sequences from an unspecified genome; no seqlengths"
      ]
     },
     "metadata": {},
     "output_type": "display_data"
    }
   ],
   "source": [
    "peaks.nano\n",
    "peaks.scCT\n",
    "peaks.encode"
   ]
  },
  {
   "cell_type": "code",
   "execution_count": 7,
   "id": "de63343d-628c-44ca-9fd2-52d685fde7d3",
   "metadata": {},
   "outputs": [
    {
     "name": "stderr",
     "output_type": "stream",
     "text": [
      "Warning message in Extend(peaks.encode, upstream = 5000, downstream = 5000):\n",
      "“'*' ranges were treated as '+'”\n"
     ]
    }
   ],
   "source": [
    "# Encode peaks are very narrow, so extend them by 5kb on each side\n",
    "\n",
    "peaks.encode.extended <- Extend(peaks.encode,upstream = 5000,downstream = 5000)"
   ]
  },
  {
   "cell_type": "code",
   "execution_count": 8,
   "id": "89208259-8d37-47f6-9835-69e432dd8d01",
   "metadata": {},
   "outputs": [
    {
     "data": {
      "image/png": "[encoded data removed]",
      "text/plain": [
       "Plot with title “Histogram of peaks.nano$qvalue”"
      ]
     },
     "metadata": {
      "image/png": {
       "height": 420,
       "width": 420
      }
     },
     "output_type": "display_data"
    },
    {
     "data": {
      "image/png": "[encoded data removed]",
      "text/plain": [
       "Plot with title “Histogram of peaks.scCT$qvalue”"
      ]
     },
     "metadata": {
      "image/png": {
       "height": 420,
       "width": 420
      }
     },
     "output_type": "display_data"
    }
   ],
   "source": [
    "hist(peaks.nano$qvalue,breaks=100,xlim=c(0,15))\n",
    "hist(peaks.scCT$qvalue,breaks=100,xlim=c(0,15))\n"
   ]
  },
  {
   "cell_type": "code",
   "execution_count": 9,
   "id": "853b84e5-b11b-4e80-ae77-b47b05bb9613",
   "metadata": {},
   "outputs": [
    {
     "data": {
      "text/html": [
       "<style>\n",
       ".list-inline {list-style: none; margin:0; padding: 0}\n",
       ".list-inline>li {display: inline-block}\n",
       ".list-inline>li:not(:last-child)::after {content: \"\\00b7\"; padding: 0 .5ex}\n",
       "</style>\n",
       "<ol class=list-inline><li>1</li><li>1.5</li><li>2</li><li>2.5</li><li>3</li><li>3.5</li><li>4</li><li>4.5</li><li>5</li><li>5.5</li><li>6</li><li>6.5</li><li>7</li><li>7.5</li><li>8</li><li>8.5</li><li>9</li><li>9.5</li><li>10</li><li>10.5</li><li>11</li><li>11.5</li><li>12</li><li>12.5</li><li>13</li><li>13.5</li><li>14</li><li>14.5</li><li>15</li><li>15.5</li><li>16</li></ol>\n"
      ],
      "text/latex": [
       "\\begin{enumerate*}\n",
       "\\item 1\n",
       "\\item 1.5\n",
       "\\item 2\n",
       "\\item 2.5\n",
       "\\item 3\n",
       "\\item 3.5\n",
       "\\item 4\n",
       "\\item 4.5\n",
       "\\item 5\n",
       "\\item 5.5\n",
       "\\item 6\n",
       "\\item 6.5\n",
       "\\item 7\n",
       "\\item 7.5\n",
       "\\item 8\n",
       "\\item 8.5\n",
       "\\item 9\n",
       "\\item 9.5\n",
       "\\item 10\n",
       "\\item 10.5\n",
       "\\item 11\n",
       "\\item 11.5\n",
       "\\item 12\n",
       "\\item 12.5\n",
       "\\item 13\n",
       "\\item 13.5\n",
       "\\item 14\n",
       "\\item 14.5\n",
       "\\item 15\n",
       "\\item 15.5\n",
       "\\item 16\n",
       "\\end{enumerate*}\n"
      ],
      "text/markdown": [
       "1. 1\n",
       "2. 1.5\n",
       "3. 2\n",
       "4. 2.5\n",
       "5. 3\n",
       "6. 3.5\n",
       "7. 4\n",
       "8. 4.5\n",
       "9. 5\n",
       "10. 5.5\n",
       "11. 6\n",
       "12. 6.5\n",
       "13. 7\n",
       "14. 7.5\n",
       "15. 8\n",
       "16. 8.5\n",
       "17. 9\n",
       "18. 9.5\n",
       "19. 10\n",
       "20. 10.5\n",
       "21. 11\n",
       "22. 11.5\n",
       "23. 12\n",
       "24. 12.5\n",
       "25. 13\n",
       "26. 13.5\n",
       "27. 14\n",
       "28. 14.5\n",
       "29. 15\n",
       "30. 15.5\n",
       "31. 16\n",
       "\n",
       "\n"
      ],
      "text/plain": [
       " [1]  1.0  1.5  2.0  2.5  3.0  3.5  4.0  4.5  5.0  5.5  6.0  6.5  7.0  7.5  8.0\n",
       "[16]  8.5  9.0  9.5 10.0 10.5 11.0 11.5 12.0 12.5 13.0 13.5 14.0 14.5 15.0 15.5\n",
       "[31] 16.0"
      ]
     },
     "metadata": {},
     "output_type": "display_data"
    }
   ],
   "source": [
    "cutoffs <- seq(1,16,0.5)\n",
    "cutoffs\n"
   ]
  },
  {
   "cell_type": "code",
   "execution_count": 10,
   "id": "e048e276-d733-47aa-bdde-089dd557eab6",
   "metadata": {},
   "outputs": [],
   "source": [
    "result.nano <- list()\n",
    "result.nano <- data.frame(precision=0,recall=0,TP=0,FN=0,FP=0)\n",
    "\n",
    "for(cutoff in cutoffs){\n",
    "    peaks.nano.x <- peaks.nano[peaks.nano$qvalue > cutoff,]\n",
    "\n",
    "    TP    <- subsetByOverlaps(x = peaks.encode.extended, peaks.nano.x)                     # TP\n",
    "    FN    <- subsetByOverlaps(x = peaks.encode.extended, peaks.nano.x,invert=TRUE)         # FN\n",
    "     \n",
    "    XX    <- subsetByOverlaps(x = peaks.nano.x, peaks.encode.extended)                     # \n",
    "    FP    <- subsetByOverlaps(x = peaks.nano.x, peaks.encode.extended,invert=TRUE)         # FP\n",
    "    \n",
    "    \n",
    "    precision    <- length(TP) / (length(TP) + length(FP))   # TP/(TP+FP)\n",
    "    recall       <- length(TP) / (length(TP) + length(FN))   # TP/(TP+FN)\n",
    "    \n",
    "    # print(c(precision,recall))\n",
    "    result.nano <- rbind(result.nano,c(precision,recall,length(TP),length(FN),length(FP)))\n",
    "}\n",
    "\n",
    "result.nano <- result.nano[-1,]"
   ]
  },
  {
   "cell_type": "code",
   "execution_count": 11,
   "id": "10a50fc6-2afc-4880-b7aa-343586875a39",
   "metadata": {},
   "outputs": [],
   "source": [
    "result.sc <- data.frame(precision=0,recall=0,TP=0,FN=0,FP=0)\n",
    "\n",
    "for(cutoff in cutoffs){\n",
    "    peaks.sc.x <- peaks.scCT[peaks.scCT$qvalue > cutoff,]\n",
    "\n",
    "    \n",
    "    TP    <- subsetByOverlaps(x = peaks.encode.extended, peaks.sc.x)                     # TP\n",
    "    FN    <- subsetByOverlaps(x = peaks.encode.extended, peaks.sc.x,invert=TRUE)         # FN\n",
    "     \n",
    "    XX    <- subsetByOverlaps(x = peaks.sc.x, peaks.encode.extended)                     # \n",
    "    FP    <- subsetByOverlaps(x = peaks.sc.x, peaks.encode.extended,invert=TRUE)         # FP\n",
    "    \n",
    "    \n",
    "    precision    <- length(TP) / (length(TP) + length(FP))   # TP/(TP+FP)\n",
    "    recall       <- length(TP) / (length(TP) + length(FN))   # TP/(TP+FN)\n",
    "    \n",
    "    result.sc <- rbind(result.sc,c(precision,recall,length(TP),length(FN),length(FP)))\n",
    "}\n",
    "\n",
    "result.sc <- result.sc[-1,]"
   ]
  },
  {
   "cell_type": "code",
   "execution_count": 12,
   "id": "1fb50688-e6d9-48c6-b025-23c79339270f",
   "metadata": {},
   "outputs": [
    {
     "name": "stdout",
     "output_type": "stream",
     "text": [
      "     precision    recall True_positive False_negetive False_positive qvalue\n",
      "1    0.5108352 0.8907051         25011           3069          23950      1\n",
      "1.5  0.5108352 0.8907051         25011           3069          23950    1.5\n",
      "2    0.5108352 0.8907051         25011           3069          23950      2\n",
      "2.5  0.5316737 0.8784544         24667           3413          21728    2.5\n",
      "3    0.5858598 0.8436966         23691           4389          16747      3\n",
      "3.5  0.6467544 0.7965812         22368           5712          12217    3.5\n",
      "4    0.7008148 0.7381766         20728           7352           8849      4\n",
      "4.5  0.7515099 0.6824074         19162           8918           6336    4.5\n",
      "5    0.7905840 0.6219373         17464          10616           4626      5\n",
      "5.5  0.8227979 0.5655271         15880          12200           3420    5.5\n",
      "6    0.8511915 0.5253561         14752          13328           2579      6\n",
      "6.5  0.8714002 0.4838319         13586          14494           2005    6.5\n",
      "7    0.8908343 0.4475427         12567          15513           1540      7\n",
      "7.5  0.9067673 0.4194444         11778          16302           1211    7.5\n",
      "8    0.9209827 0.3951567         11096          16984            952      8\n",
      "8.5  0.9297038 0.3654915         10263          17817            776    8.5\n",
      "9    0.9406499 0.3443020          9668          18412            610      9\n",
      "9.5  0.9486504 0.3204060          8997          19083            487    9.5\n",
      "10   0.9553481 0.3024929          8494          19586            397     10\n",
      "10.5 0.9612085 0.2832621          7954          20126            321   10.5\n",
      "11   0.9658165 0.2616097          7346          20734            260     11\n",
      "11.5 0.9687852 0.2453704          6890          21190            222   11.5\n",
      "12   0.9711712 0.2303419          6468          21612            192     12\n",
      "12.5 0.9752930 0.2193020          6158          21922            156   12.5\n",
      "13   0.9785127 0.2075855          5829          22251            128     13\n",
      "13.5 0.9803533 0.1936966          5439          22641            109   13.5\n",
      "14   0.9822519 0.1832977          5147          22933             93     14\n",
      "14.5 0.9840224 0.1754630          4927          23153             80   14.5\n",
      "15   0.9866033 0.1626068          4566          23514             62     15\n",
      "15.5 0.9874832 0.1573362          4418          23662             56   15.5\n",
      "16   0.9877156 0.1488960          4181          23899             52     16\n",
      "      method\n",
      "1    nano-CT\n",
      "1.5  nano-CT\n",
      "2    nano-CT\n",
      "2.5  nano-CT\n",
      "3    nano-CT\n",
      "3.5  nano-CT\n",
      "4    nano-CT\n",
      "4.5  nano-CT\n",
      "5    nano-CT\n",
      "5.5  nano-CT\n",
      "6    nano-CT\n",
      "6.5  nano-CT\n",
      "7    nano-CT\n",
      "7.5  nano-CT\n",
      "8    nano-CT\n",
      "8.5  nano-CT\n",
      "9    nano-CT\n",
      "9.5  nano-CT\n",
      "10   nano-CT\n",
      "10.5 nano-CT\n",
      "11   nano-CT\n",
      "11.5 nano-CT\n",
      "12   nano-CT\n",
      "12.5 nano-CT\n",
      "13   nano-CT\n",
      "13.5 nano-CT\n",
      "14   nano-CT\n",
      "14.5 nano-CT\n",
      "15   nano-CT\n",
      "15.5 nano-CT\n",
      "16   nano-CT\n",
      "     precision    recall True_positive False_negetive False_positive qvalue\n",
      "1    0.5610005 0.7827635         21980           6100          17200      1\n",
      "1.5  0.5610005 0.7827635         21980           6100          17200    1.5\n",
      "2    0.5610005 0.7827635         21980           6100          17200      2\n",
      "2.5  0.5739305 0.7725783         21694           6386          16105    2.5\n",
      "3    0.5978273 0.7486467         21022           7058          14142      3\n",
      "3.5  0.6193145 0.7162037         20111           7969          12362    3.5\n",
      "4    0.6342392 0.6765670         18998           9082          10956      4\n",
      "4.5  0.6455280 0.6369302         17885          10195           9821    4.5\n",
      "5    0.6534711 0.5966880         16755          11325           8885      5\n",
      "5.5  0.6588388 0.5605057         15739          12341           8150    5.5\n",
      "6    0.6619028 0.5245014         14728          13352           7523      6\n",
      "6.5  0.6635751 0.4943020         13880          14200           7037    6.5\n",
      "7    0.6631584 0.4644943         13043          15037           6625      7\n",
      "7.5  0.6643007 0.4399573         12354          15726           6243    7.5\n",
      "8    0.6649732 0.4148504         11649          16431           5869      8\n",
      "8.5  0.6658547 0.3893875         10934          17146           5487    8.5\n",
      "9    0.6672880 0.3696937         10381          17699           5176      9\n",
      "9.5  0.6682591 0.3487179          9792          18288           4861    9.5\n",
      "10   0.6723086 0.3295940          9255          18825           4511     10\n",
      "10.5 0.6728828 0.3109687          8732          19348           4245   10.5\n",
      "11   0.6722613 0.2895655          8131          19949           3964     11\n",
      "11.5 0.6777239 0.2735755          7682          20398           3653   11.5\n",
      "12   0.6823189 0.2602920          7309          20771           3403     12\n",
      "12.5 0.6866667 0.2457621          6901          21179           3149   12.5\n",
      "13   0.6931469 0.2330484          6544          21536           2897     13\n",
      "13.5 0.6982476 0.2199430          6176          21904           2669   13.5\n",
      "14   0.7030658 0.2049858          5756          22324           2431     14\n",
      "14.5 0.7115335 0.1959758          5503          22577           2231   14.5\n",
      "15   0.7181115 0.1852564          5202          22878           2042     15\n",
      "15.5 0.7230973 0.1749288          4912          23168           1881   15.5\n",
      "16   0.7300458 0.1644943          4619          23461           1708     16\n",
      "     method\n",
      "1      scCT\n",
      "1.5    scCT\n",
      "2      scCT\n",
      "2.5    scCT\n",
      "3      scCT\n",
      "3.5    scCT\n",
      "4      scCT\n",
      "4.5    scCT\n",
      "5      scCT\n",
      "5.5    scCT\n",
      "6      scCT\n",
      "6.5    scCT\n",
      "7      scCT\n",
      "7.5    scCT\n",
      "8      scCT\n",
      "8.5    scCT\n",
      "9      scCT\n",
      "9.5    scCT\n",
      "10     scCT\n",
      "10.5   scCT\n",
      "11     scCT\n",
      "11.5   scCT\n",
      "12     scCT\n",
      "12.5   scCT\n",
      "13     scCT\n",
      "13.5   scCT\n",
      "14     scCT\n",
      "14.5   scCT\n",
      "15     scCT\n",
      "15.5   scCT\n",
      "16     scCT\n"
     ]
    }
   ],
   "source": [
    "colnames(result.nano) <- c('precision','recall','True_positive','False_negetive','False_positive')\n",
    "colnames(result.sc) <- c('precision','recall','True_positive','False_negetive','False_positive')\n",
    "\n",
    "rownames(result.nano) <- cutoffs\n",
    "rownames(result.sc) <- cutoffs\n",
    "\n",
    "result.nano$qvalue <- rownames(result.nano)\n",
    "result.sc$qvalue <- rownames(result.sc)\n",
    "\n",
    "result.nano$method <- 'nano-CT'\n",
    "result.sc$method <- 'scCT'\n",
    "\n",
    "print(result.nano)\n",
    "print(result.sc)"
   ]
  },
  {
   "cell_type": "code",
   "execution_count": 13,
   "id": "d7f6d78b-0df1-49fb-9cac-23e98d57a2e0",
   "metadata": {},
   "outputs": [
    {
     "name": "stdout",
     "output_type": "stream",
     "text": [
      "      precision    recall True_positive False_negetive False_positive qvalue\n",
      "1     0.5108352 0.8907051         25011           3069          23950      1\n",
      "1.5   0.5108352 0.8907051         25011           3069          23950    1.5\n",
      "2     0.5108352 0.8907051         25011           3069          23950      2\n",
      "2.5   0.5316737 0.8784544         24667           3413          21728    2.5\n",
      "3     0.5858598 0.8436966         23691           4389          16747      3\n",
      "3.5   0.6467544 0.7965812         22368           5712          12217    3.5\n",
      "4     0.7008148 0.7381766         20728           7352           8849      4\n",
      "4.5   0.7515099 0.6824074         19162           8918           6336    4.5\n",
      "5     0.7905840 0.6219373         17464          10616           4626      5\n",
      "5.5   0.8227979 0.5655271         15880          12200           3420    5.5\n",
      "6     0.8511915 0.5253561         14752          13328           2579      6\n",
      "6.5   0.8714002 0.4838319         13586          14494           2005    6.5\n",
      "7     0.8908343 0.4475427         12567          15513           1540      7\n",
      "7.5   0.9067673 0.4194444         11778          16302           1211    7.5\n",
      "8     0.9209827 0.3951567         11096          16984            952      8\n",
      "8.5   0.9297038 0.3654915         10263          17817            776    8.5\n",
      "9     0.9406499 0.3443020          9668          18412            610      9\n",
      "9.5   0.9486504 0.3204060          8997          19083            487    9.5\n",
      "10    0.9553481 0.3024929          8494          19586            397     10\n",
      "10.5  0.9612085 0.2832621          7954          20126            321   10.5\n",
      "11    0.9658165 0.2616097          7346          20734            260     11\n",
      "11.5  0.9687852 0.2453704          6890          21190            222   11.5\n",
      "12    0.9711712 0.2303419          6468          21612            192     12\n",
      "12.5  0.9752930 0.2193020          6158          21922            156   12.5\n",
      "13    0.9785127 0.2075855          5829          22251            128     13\n",
      "13.5  0.9803533 0.1936966          5439          22641            109   13.5\n",
      "14    0.9822519 0.1832977          5147          22933             93     14\n",
      "14.5  0.9840224 0.1754630          4927          23153             80   14.5\n",
      "15    0.9866033 0.1626068          4566          23514             62     15\n",
      "15.5  0.9874832 0.1573362          4418          23662             56   15.5\n",
      "16    0.9877156 0.1488960          4181          23899             52     16\n",
      "17    0.5610005 0.7827635         21980           6100          17200      1\n",
      "1.51  0.5610005 0.7827635         21980           6100          17200    1.5\n",
      "21    0.5610005 0.7827635         21980           6100          17200      2\n",
      "2.51  0.5739305 0.7725783         21694           6386          16105    2.5\n",
      "31    0.5978273 0.7486467         21022           7058          14142      3\n",
      "3.51  0.6193145 0.7162037         20111           7969          12362    3.5\n",
      "41    0.6342392 0.6765670         18998           9082          10956      4\n",
      "4.51  0.6455280 0.6369302         17885          10195           9821    4.5\n",
      "51    0.6534711 0.5966880         16755          11325           8885      5\n",
      "5.51  0.6588388 0.5605057         15739          12341           8150    5.5\n",
      "61    0.6619028 0.5245014         14728          13352           7523      6\n",
      "6.51  0.6635751 0.4943020         13880          14200           7037    6.5\n",
      "71    0.6631584 0.4644943         13043          15037           6625      7\n",
      "7.51  0.6643007 0.4399573         12354          15726           6243    7.5\n",
      "81    0.6649732 0.4148504         11649          16431           5869      8\n",
      "8.51  0.6658547 0.3893875         10934          17146           5487    8.5\n",
      "91    0.6672880 0.3696937         10381          17699           5176      9\n",
      "9.51  0.6682591 0.3487179          9792          18288           4861    9.5\n",
      "101   0.6723086 0.3295940          9255          18825           4511     10\n",
      "10.51 0.6728828 0.3109687          8732          19348           4245   10.5\n",
      "111   0.6722613 0.2895655          8131          19949           3964     11\n",
      "11.51 0.6777239 0.2735755          7682          20398           3653   11.5\n",
      "121   0.6823189 0.2602920          7309          20771           3403     12\n",
      "12.51 0.6866667 0.2457621          6901          21179           3149   12.5\n",
      "131   0.6931469 0.2330484          6544          21536           2897     13\n",
      "13.51 0.6982476 0.2199430          6176          21904           2669   13.5\n",
      "141   0.7030658 0.2049858          5756          22324           2431     14\n",
      "14.51 0.7115335 0.1959758          5503          22577           2231   14.5\n",
      "151   0.7181115 0.1852564          5202          22878           2042     15\n",
      "15.51 0.7230973 0.1749288          4912          23168           1881   15.5\n",
      "161   0.7300458 0.1644943          4619          23461           1708     16\n",
      "       method\n",
      "1     nano-CT\n",
      "1.5   nano-CT\n",
      "2     nano-CT\n",
      "2.5   nano-CT\n",
      "3     nano-CT\n",
      "3.5   nano-CT\n",
      "4     nano-CT\n",
      "4.5   nano-CT\n",
      "5     nano-CT\n",
      "5.5   nano-CT\n",
      "6     nano-CT\n",
      "6.5   nano-CT\n",
      "7     nano-CT\n",
      "7.5   nano-CT\n",
      "8     nano-CT\n",
      "8.5   nano-CT\n",
      "9     nano-CT\n",
      "9.5   nano-CT\n",
      "10    nano-CT\n",
      "10.5  nano-CT\n",
      "11    nano-CT\n",
      "11.5  nano-CT\n",
      "12    nano-CT\n",
      "12.5  nano-CT\n",
      "13    nano-CT\n",
      "13.5  nano-CT\n",
      "14    nano-CT\n",
      "14.5  nano-CT\n",
      "15    nano-CT\n",
      "15.5  nano-CT\n",
      "16    nano-CT\n",
      "17       scCT\n",
      "1.51     scCT\n",
      "21       scCT\n",
      "2.51     scCT\n",
      "31       scCT\n",
      "3.51     scCT\n",
      "41       scCT\n",
      "4.51     scCT\n",
      "51       scCT\n",
      "5.51     scCT\n",
      "61       scCT\n",
      "6.51     scCT\n",
      "71       scCT\n",
      "7.51     scCT\n",
      "81       scCT\n",
      "8.51     scCT\n",
      "91       scCT\n",
      "9.51     scCT\n",
      "101      scCT\n",
      "10.51    scCT\n",
      "111      scCT\n",
      "11.51    scCT\n",
      "121      scCT\n",
      "12.51    scCT\n",
      "131      scCT\n",
      "13.51    scCT\n",
      "141      scCT\n",
      "14.51    scCT\n",
      "151      scCT\n",
      "15.51    scCT\n",
      "161      scCT\n"
     ]
    }
   ],
   "source": [
    "result.both        <- rbind(result.nano,result.sc)\n",
    "print(result.both)"
   ]
  },
  {
   "cell_type": "code",
   "execution_count": 14,
   "id": "037ad4a4-250c-48e3-903b-1c67641853b9",
   "metadata": {},
   "outputs": [
    {
     "data": {
      "image/png": "[encoded data removed]",
      "text/plain": [
       "plot without title"
      ]
     },
     "metadata": {
      "image/png": {
       "height": 420,
       "width": 420
      }
     },
     "output_type": "display_data"
    }
   ],
   "source": [
    "ggplot(data=result.both) + \n",
    "  geom_point(aes(x=recall, y= precision,size = True_positive, color=method)) + \n",
    "  theme_bw() + \n",
    "  coord_cartesian(xlim=c(0,1),ylim=c(0,1))"
   ]
  },
  {
   "cell_type": "code",
   "execution_count": 15,
   "id": "213d6a7d-61eb-4da4-9ab7-93d9e6e498fa",
   "metadata": {},
   "outputs": [],
   "source": [
    "#scCT no-recall peaks\n",
    "scCT.norecall.q15 <- subsetByOverlaps(x = peaks.scCT[peaks.scCT$qvalue > 15], peaks.encode.extended,invert=TRUE)\n",
    "scCT.norecall.q10 <- subsetByOverlaps(x = peaks.scCT[peaks.scCT$qvalue > 10], peaks.encode.extended,invert=TRUE)\n",
    "\n",
    "# nanoCT no-recall peaks\n",
    "nanoCT.norecall.q5 <- subsetByOverlaps(x = peaks.nano[peaks.nano$qvalue > 5], peaks.encode.extended,invert=TRUE)\n",
    "nanoCT.norecall.q10 <- subsetByOverlaps(x = peaks.nano[peaks.nano$qvalue > 10], peaks.encode.extended,invert=TRUE)\n",
    "\n",
    "\n",
    "#scCT yes-recall peaks\n",
    "scCT.yesrecall.q15 <- subsetByOverlaps(x = peaks.scCT[peaks.scCT$qvalue > 15], peaks.encode.extended)\n",
    "scCT.yesrecall.q10 <- subsetByOverlaps(x = peaks.scCT[peaks.scCT$qvalue > 10], peaks.encode.extended)\n",
    "\n",
    "# nanoCT yes-recall peaks\n",
    "nanoCT.yesrecall.q5 <- subsetByOverlaps(x = peaks.nano[peaks.nano$qvalue > 5], peaks.encode.extended)\n",
    "nanoCT.yesrecall.q10 <- subsetByOverlaps(x = peaks.nano[peaks.nano$qvalue > 10], peaks.encode.extended)\n",
    "\n",
    "\n",
    "\n",
    "\n"
   ]
  },
  {
   "cell_type": "code",
   "execution_count": 16,
   "id": "b1ef12e3-e835-409e-9daa-2fa0f98a8263",
   "metadata": {},
   "outputs": [
    {
     "data": {
      "text/html": [
       "18825"
      ],
      "text/latex": [
       "18825"
      ],
      "text/markdown": [
       "18825"
      ],
      "text/plain": [
       "[1] 18825"
      ]
     },
     "metadata": {},
     "output_type": "display_data"
    },
    {
     "data": {
      "text/html": [
       "9255"
      ],
      "text/latex": [
       "9255"
      ],
      "text/markdown": [
       "9255"
      ],
      "text/plain": [
       "[1] 9255"
      ]
     },
     "metadata": {},
     "output_type": "display_data"
    }
   ],
   "source": [
    "# Encode peaks overlap with scCT q10 peaks\n",
    "encode.norecall.q10  <- subsetByOverlaps(x = peaks.encode.extended, peaks.scCT[peaks.scCT$qvalue > 10], invert=TRUE)\n",
    "encode.yesrecall.q10 <- subsetByOverlaps(x = peaks.encode.extended, peaks.scCT[peaks.scCT$qvalue > 10])\n",
    "\n",
    "length(encode.norecall.q10)\n",
    "length(encode.yesrecall.q10)\n",
    "\n"
   ]
  },
  {
   "cell_type": "code",
   "execution_count": 17,
   "id": "369dc247-55bd-4703-877d-fde63aaf3978",
   "metadata": {},
   "outputs": [],
   "source": [
    "op <- findOverlaps(subject = peaks.encode.extended,query= peaks.scCT[peaks.scCT$qvalue > 10])\n",
    "s.hits <- subjectHits(op)\n",
    "\n",
    "encode.yesrecall.q10 <- peaks.encode[s.hits]\n",
    "encode.norecall.q10  <- peaks.encode[-s.hits]"
   ]
  },
  {
   "cell_type": "code",
   "execution_count": 18,
   "id": "0506df55-7659-4c1f-ab8f-537277b52f48",
   "metadata": {},
   "outputs": [],
   "source": [
    "# # Encode peaks overlap with scCT q10 peaks\n",
    "# encode.norecall.q10  <- subsetByOverlaps(x = peaks.encode.extended, peaks.nano[peaks.nano$qvalue > 10], invert=TRUE)\n",
    "# encode.yesrecall.q10 <- subsetByOverlaps(x = peaks.encode.extended, peaks.nano[peaks.nano$qvalue > 10])\n",
    "\n",
    "# length(encode.norecall.q10)\n",
    "# length(encode.yesrecall.q10)\n",
    "\n"
   ]
  },
  {
   "cell_type": "code",
   "execution_count": 19,
   "id": "ab9ac328-3397-4d20-8bcf-fe8fe28cb5cf",
   "metadata": {},
   "outputs": [
    {
     "name": "stderr",
     "output_type": "stream",
     "text": [
      "Warning message in dir.create(\"/data/proj/GCB_MB/bcd_CT/single-cell/results2/results/precision_recall/missing_peaks/\"):\n",
      "“'/data/proj/GCB_MB/bcd_CT/single-cell/results2/results/precision_recall/missing_peaks' already exists”\n"
     ]
    }
   ],
   "source": [
    "dir.create('/data/proj/GCB_MB/bcd_CT/single-cell/results2/results/precision_recall/missing_peaks/')\n",
    "\n",
    "rtracklayer::export(object = scCT.norecall.q10,con = '/data/proj/GCB_MB/bcd_CT/single-cell/results2/results/precision_recall/missing_peaks/scCT_norecall_q10.bed',format='bed')\n",
    "rtracklayer::export(object = scCT.norecall.q15,con = '/data/proj/GCB_MB/bcd_CT/single-cell/results2/results/precision_recall/missing_peaks/scCT_norecall_q15.bed',format='bed')\n",
    "\n",
    "rtracklayer::export(object = nanoCT.norecall.q5,con = '/data/proj/GCB_MB/bcd_CT/single-cell/results2/results/precision_recall/missing_peaks/nanoCT_norecall_q5.bed',format='bed')\n",
    "rtracklayer::export(object = nanoCT.norecall.q10,con = '/data/proj/GCB_MB/bcd_CT/single-cell/results2/results/precision_recall/missing_peaks/nanoCT_norecall_q10.bed',format='bed')\n",
    "\n",
    "rtracklayer::export(object = scCT.yesrecall.q10,con = '/data/proj/GCB_MB/bcd_CT/single-cell/results2/results/precision_recall/missing_peaks/scCT_yesrecall_q10.bed',format='bed')\n",
    "rtracklayer::export(object = scCT.yesrecall.q15,con = '/data/proj/GCB_MB/bcd_CT/single-cell/results2/results/precision_recall/missing_peaks/scCT_yesrecall_q15.bed',format='bed')\n",
    "\n",
    "rtracklayer::export(object = nanoCT.yesrecall.q5,con = '/data/proj/GCB_MB/bcd_CT/single-cell/results2/results/precision_recall/missing_peaks/nanoCT_yesrecall_q5.bed',format='bed')\n",
    "rtracklayer::export(object = nanoCT.yesrecall.q10,con = '/data/proj/GCB_MB/bcd_CT/single-cell/results2/results/precision_recall/missing_peaks/nanoCT_yesrecall_q10.bed',format='bed')\n",
    "\n",
    "rtracklayer::export(object = encode.norecall.q10, con = '/data/proj/GCB_MB/bcd_CT/single-cell/results2/results/precision_recall/missing_peaks/encode_norecall_q10.bed',format='bed')\n",
    "rtracklayer::export(object = encode.yesrecall.q10, con = '/data/proj/GCB_MB/bcd_CT/single-cell/results2/results/precision_recall/missing_peaks/encode_yesrecall_q10.bed',format='bed')"
   ]
  },
  {
   "cell_type": "code",
   "execution_count": 20,
   "id": "13652a73-5c30-4c99-978f-2913d103e726",
   "metadata": {},
   "outputs": [],
   "source": [
    "encode.files   <- '/data/proj/GCB_MB/bcd_CT/single-cell/results2/results/encode/bigwig/all_merged.bw'\n",
    "nbiotech.files <- '/data/proj/GCB_MB/bcd_CT/single-cell/results2/results/nbiotech_data/merged/bw/nbiotech_merged.bw'\n",
    "nanoCT.files   <- '/data/proj/GCB_MB/bcd_CT/single-cell/results2/results/multimodal_data/single_modality/H3K27me3/bam/possorted_bam_sampleID.bw'\n",
    "\n",
    "peaks.norecall.file  <- '/data/proj/GCB_MB/bcd_CT/single-cell/results2/results/precision_recall/missing_peaks/encode_norecall_q10.bed'\n",
    "peaks.yesrecall.file <- '/data/proj/GCB_MB/bcd_CT/single-cell/results2/results/precision_recall/missing_peaks/encode_yesrecall_q10.bed'"
   ]
  },
  {
   "cell_type": "code",
   "execution_count": 21,
   "id": "3cd315f8-5707-4d0e-9e29-91dbc55a3f10",
   "metadata": {},
   "outputs": [],
   "source": [
    "cmd.nbiotech <- paste0('computeMatrix ', \n",
    "       'reference-point ',\n",
    "       '-S ',\n",
    "        paste0(nbiotech.files,collapse = ' '),\n",
    "       ' -R ',\n",
    "       peaks.norecall.file,\n",
    "       ' -o /data/proj/GCB_MB/bcd_CT/single-cell/results2/results/precision_recall/encode_norecall_peaks_nbiotech_bw_matrix.txt.gz ',\n",
    "       ' -p 8 ', \n",
    "       ' --upstream 10000 --downstream 20000',\n",
    "       '-bl ', blacklist)\n",
    "\n",
    "cmd.nano <- paste0('computeMatrix ', \n",
    "       ' reference-point ',\n",
    "       ' -S ',\n",
    "       paste0(nanoCT.files,collapse = ' '),\n",
    "       ' -R ',\n",
    "       peaks.norecall.file,\n",
    "       ' -o /data/proj/GCB_MB/bcd_CT/single-cell/results2/results/precision_recall/encode_norecall_peaks_nano_bw_matrix.txt.gz ',\n",
    "       ' -p 8 ', \n",
    "       ' --upstream 10000 --downstream 20000',\n",
    "       '-bl ', blacklist)\n",
    "\n",
    "cmd.encode <- paste0('computeMatrix ', \n",
    "       ' reference-point ',\n",
    "       ' -S ',\n",
    "       paste0(encode.files,collapse = ' '),\n",
    "       ' -R ',\n",
    "       peaks.norecall.file,\n",
    "       ' -o /data/proj/GCB_MB/bcd_CT/single-cell/results2/results/precision_recall/encode_norecall_peaks_encode_bw_matrix.txt.gz ',\n",
    "       ' -p 8 ', \n",
    "       ' --upstream 10000 --downstream 20000',\n",
    "       '-bl ', blacklist)\n",
    "\n",
    "cmd.nbiotech2 <- paste0('computeMatrix ', \n",
    "       ' reference-point ',\n",
    "       ' -S ',\n",
    "        paste0(nbiotech.files,collapse = ' '),\n",
    "       ' -R ',\n",
    "       peaks.yesrecall.file,\n",
    "       ' -o /data/proj/GCB_MB/bcd_CT/single-cell/results2/results/precision_recall/encode_yesrecall_peaks_nbiotech_bw_matrix.txt.gz ',\n",
    "       ' -p 8 ', \n",
    "       ' --upstream 10000 --downstream 20000',\n",
    "       '-bl ', blacklist)\n",
    "\n",
    "cmd.nano2 <- paste0('computeMatrix ', \n",
    "       ' reference-point ',\n",
    "       ' -S ',\n",
    "       paste0(nanoCT.files,collapse = ' '),\n",
    "       ' -R ',\n",
    "       peaks.yesrecall.file,\n",
    "       ' -o /data/proj/GCB_MB/bcd_CT/single-cell/results2/results/precision_recall/encode_yesrecall_peaks_nano_bw_matrix.txt.gz ',\n",
    "       ' -p 8 ', \n",
    "       ' --upstream 10000 --downstream 20000',\n",
    "       '-bl ', blacklist)\n",
    "\n",
    "cmd.encode2 <- paste0('computeMatrix ', \n",
    "       ' reference-point ',\n",
    "       ' -S ',\n",
    "       paste0(encode.files,collapse = ' '),\n",
    "       ' -R ',\n",
    "       peaks.yesrecall.file,\n",
    "       ' -o /data/proj/GCB_MB/bcd_CT/single-cell/results2/results/precision_recall/encode_yesrecall_peaks_encode_bw_matrix.txt.gz ',\n",
    "       ' -p 8 ', \n",
    "       ' --upstream 10000 --downstream 20000',\n",
    "       '-bl ', blacklist)\n",
    "\n"
   ]
  },
  {
   "cell_type": "code",
   "execution_count": 22,
   "id": "f9be1ecd-088d-49d7-80bc-42bcbf988e36",
   "metadata": {},
   "outputs": [
    {
     "data": {
      "text/html": [
       "<span style=white-space:pre-wrap>'computeMatrix  reference-point  -S /data/proj/GCB_MB/bcd_CT/single-cell/results2/results/multimodal_data/single_modality/H3K27me3/bam/possorted_bam_sampleID.bw -R /data/proj/GCB_MB/bcd_CT/single-cell/results2/results/precision_recall/missing_peaks/encode_norecall_q10.bed -o /data/proj/GCB_MB/bcd_CT/single-cell/results2/results/precision_recall/encode_norecall_peaks_nano_bw_matrix.txt.gz  -p 8  --upstream 10000 --downstream 20000-bl /data/proj/GCB_MB/bcd_CT/single-cell/results2/results/mm10-blacklist.v2.bed &amp; computeMatrix reference-point -S /data/proj/GCB_MB/bcd_CT/single-cell/results2/results/nbiotech_data/merged/bw/nbiotech_merged.bw -R /data/proj/GCB_MB/bcd_CT/single-cell/results2/results/precision_recall/missing_peaks/encode_norecall_q10.bed -o /data/proj/GCB_MB/bcd_CT/single-cell/results2/results/precision_recall/encode_norecall_peaks_nbiotech_bw_matrix.txt.gz  -p 8  --upstream 10000 --downstream 20000-bl /data/proj/GCB_MB/bcd_CT/single-cell/results2/results/mm10-blacklist.v2.bed &amp; computeMatrix  reference-point  -S /data/proj/GCB_MB/bcd_CT/single-cell/results2/results/encode/bigwig/all_merged.bw -R /data/proj/GCB_MB/bcd_CT/single-cell/results2/results/precision_recall/missing_peaks/encode_norecall_q10.bed -o /data/proj/GCB_MB/bcd_CT/single-cell/results2/results/precision_recall/encode_norecall_peaks_encode_bw_matrix.txt.gz  -p 8  --upstream 10000 --downstream 20000-bl /data/proj/GCB_MB/bcd_CT/single-cell/results2/results/mm10-blacklist.v2.bed &amp; computeMatrix  reference-point  -S /data/proj/GCB_MB/bcd_CT/single-cell/results2/results/multimodal_data/single_modality/H3K27me3/bam/possorted_bam_sampleID.bw -R /data/proj/GCB_MB/bcd_CT/single-cell/results2/results/precision_recall/missing_peaks/encode_yesrecall_q10.bed -o /data/proj/GCB_MB/bcd_CT/single-cell/results2/results/precision_recall/encode_yesrecall_peaks_nano_bw_matrix.txt.gz  -p 8  --upstream 10000 --downstream 20000-bl /data/proj/GCB_MB/bcd_CT/single-cell/results2/results/mm10-blacklist.v2.bed &amp; computeMatrix  reference-point  -S /data/proj/GCB_MB/bcd_CT/single-cell/results2/results/nbiotech_data/merged/bw/nbiotech_merged.bw -R /data/proj/GCB_MB/bcd_CT/single-cell/results2/results/precision_recall/missing_peaks/encode_yesrecall_q10.bed -o /data/proj/GCB_MB/bcd_CT/single-cell/results2/results/precision_recall/encode_yesrecall_peaks_nbiotech_bw_matrix.txt.gz  -p 8  --upstream 10000 --downstream 20000-bl /data/proj/GCB_MB/bcd_CT/single-cell/results2/results/mm10-blacklist.v2.bed &amp; computeMatrix  reference-point  -S /data/proj/GCB_MB/bcd_CT/single-cell/results2/results/encode/bigwig/all_merged.bw -R /data/proj/GCB_MB/bcd_CT/single-cell/results2/results/precision_recall/missing_peaks/encode_yesrecall_q10.bed -o /data/proj/GCB_MB/bcd_CT/single-cell/results2/results/precision_recall/encode_yesrecall_peaks_encode_bw_matrix.txt.gz  -p 8  --upstream 10000 --downstream 20000-bl /data/proj/GCB_MB/bcd_CT/single-cell/results2/results/mm10-blacklist.v2.bed &amp;  &amp;'</span>"
      ],
      "text/latex": [
       "'computeMatrix  reference-point  -S /data/proj/GCB\\_MB/bcd\\_CT/single-cell/results2/results/multimodal\\_data/single\\_modality/H3K27me3/bam/possorted\\_bam\\_sampleID.bw -R /data/proj/GCB\\_MB/bcd\\_CT/single-cell/results2/results/precision\\_recall/missing\\_peaks/encode\\_norecall\\_q10.bed -o /data/proj/GCB\\_MB/bcd\\_CT/single-cell/results2/results/precision\\_recall/encode\\_norecall\\_peaks\\_nano\\_bw\\_matrix.txt.gz  -p 8  --upstream 10000 --downstream 20000-bl /data/proj/GCB\\_MB/bcd\\_CT/single-cell/results2/results/mm10-blacklist.v2.bed \\& computeMatrix reference-point -S /data/proj/GCB\\_MB/bcd\\_CT/single-cell/results2/results/nbiotech\\_data/merged/bw/nbiotech\\_merged.bw -R /data/proj/GCB\\_MB/bcd\\_CT/single-cell/results2/results/precision\\_recall/missing\\_peaks/encode\\_norecall\\_q10.bed -o /data/proj/GCB\\_MB/bcd\\_CT/single-cell/results2/results/precision\\_recall/encode\\_norecall\\_peaks\\_nbiotech\\_bw\\_matrix.txt.gz  -p 8  --upstream 10000 --downstream 20000-bl /data/proj/GCB\\_MB/bcd\\_CT/single-cell/results2/results/mm10-blacklist.v2.bed \\& computeMatrix  reference-point  -S /data/proj/GCB\\_MB/bcd\\_CT/single-cell/results2/results/encode/bigwig/all\\_merged.bw -R /data/proj/GCB\\_MB/bcd\\_CT/single-cell/results2/results/precision\\_recall/missing\\_peaks/encode\\_norecall\\_q10.bed -o /data/proj/GCB\\_MB/bcd\\_CT/single-cell/results2/results/precision\\_recall/encode\\_norecall\\_peaks\\_encode\\_bw\\_matrix.txt.gz  -p 8  --upstream 10000 --downstream 20000-bl /data/proj/GCB\\_MB/bcd\\_CT/single-cell/results2/results/mm10-blacklist.v2.bed \\& computeMatrix  reference-point  -S /data/proj/GCB\\_MB/bcd\\_CT/single-cell/results2/results/multimodal\\_data/single\\_modality/H3K27me3/bam/possorted\\_bam\\_sampleID.bw -R /data/proj/GCB\\_MB/bcd\\_CT/single-cell/results2/results/precision\\_recall/missing\\_peaks/encode\\_yesrecall\\_q10.bed -o /data/proj/GCB\\_MB/bcd\\_CT/single-cell/results2/results/precision\\_recall/encode\\_yesrecall\\_peaks\\_nano\\_bw\\_matrix.txt.gz  -p 8  --upstream 10000 --downstream 20000-bl /data/proj/GCB\\_MB/bcd\\_CT/single-cell/results2/results/mm10-blacklist.v2.bed \\& computeMatrix  reference-point  -S /data/proj/GCB\\_MB/bcd\\_CT/single-cell/results2/results/nbiotech\\_data/merged/bw/nbiotech\\_merged.bw -R /data/proj/GCB\\_MB/bcd\\_CT/single-cell/results2/results/precision\\_recall/missing\\_peaks/encode\\_yesrecall\\_q10.bed -o /data/proj/GCB\\_MB/bcd\\_CT/single-cell/results2/results/precision\\_recall/encode\\_yesrecall\\_peaks\\_nbiotech\\_bw\\_matrix.txt.gz  -p 8  --upstream 10000 --downstream 20000-bl /data/proj/GCB\\_MB/bcd\\_CT/single-cell/results2/results/mm10-blacklist.v2.bed \\& computeMatrix  reference-point  -S /data/proj/GCB\\_MB/bcd\\_CT/single-cell/results2/results/encode/bigwig/all\\_merged.bw -R /data/proj/GCB\\_MB/bcd\\_CT/single-cell/results2/results/precision\\_recall/missing\\_peaks/encode\\_yesrecall\\_q10.bed -o /data/proj/GCB\\_MB/bcd\\_CT/single-cell/results2/results/precision\\_recall/encode\\_yesrecall\\_peaks\\_encode\\_bw\\_matrix.txt.gz  -p 8  --upstream 10000 --downstream 20000-bl /data/proj/GCB\\_MB/bcd\\_CT/single-cell/results2/results/mm10-blacklist.v2.bed \\&  \\&'"
      ],
      "text/markdown": [
       "<span style=white-space:pre-wrap>'computeMatrix  reference-point  -S /data/proj/GCB_MB/bcd_CT/single-cell/results2/results/multimodal_data/single_modality/H3K27me3/bam/possorted_bam_sampleID.bw -R /data/proj/GCB_MB/bcd_CT/single-cell/results2/results/precision_recall/missing_peaks/encode_norecall_q10.bed -o /data/proj/GCB_MB/bcd_CT/single-cell/results2/results/precision_recall/encode_norecall_peaks_nano_bw_matrix.txt.gz  -p 8  --upstream 10000 --downstream 20000-bl /data/proj/GCB_MB/bcd_CT/single-cell/results2/results/mm10-blacklist.v2.bed &amp; computeMatrix reference-point -S /data/proj/GCB_MB/bcd_CT/single-cell/results2/results/nbiotech_data/merged/bw/nbiotech_merged.bw -R /data/proj/GCB_MB/bcd_CT/single-cell/results2/results/precision_recall/missing_peaks/encode_norecall_q10.bed -o /data/proj/GCB_MB/bcd_CT/single-cell/results2/results/precision_recall/encode_norecall_peaks_nbiotech_bw_matrix.txt.gz  -p 8  --upstream 10000 --downstream 20000-bl /data/proj/GCB_MB/bcd_CT/single-cell/results2/results/mm10-blacklist.v2.bed &amp; computeMatrix  reference-point  -S /data/proj/GCB_MB/bcd_CT/single-cell/results2/results/encode/bigwig/all_merged.bw -R /data/proj/GCB_MB/bcd_CT/single-cell/results2/results/precision_recall/missing_peaks/encode_norecall_q10.bed -o /data/proj/GCB_MB/bcd_CT/single-cell/results2/results/precision_recall/encode_norecall_peaks_encode_bw_matrix.txt.gz  -p 8  --upstream 10000 --downstream 20000-bl /data/proj/GCB_MB/bcd_CT/single-cell/results2/results/mm10-blacklist.v2.bed &amp; computeMatrix  reference-point  -S /data/proj/GCB_MB/bcd_CT/single-cell/results2/results/multimodal_data/single_modality/H3K27me3/bam/possorted_bam_sampleID.bw -R /data/proj/GCB_MB/bcd_CT/single-cell/results2/results/precision_recall/missing_peaks/encode_yesrecall_q10.bed -o /data/proj/GCB_MB/bcd_CT/single-cell/results2/results/precision_recall/encode_yesrecall_peaks_nano_bw_matrix.txt.gz  -p 8  --upstream 10000 --downstream 20000-bl /data/proj/GCB_MB/bcd_CT/single-cell/results2/results/mm10-blacklist.v2.bed &amp; computeMatrix  reference-point  -S /data/proj/GCB_MB/bcd_CT/single-cell/results2/results/nbiotech_data/merged/bw/nbiotech_merged.bw -R /data/proj/GCB_MB/bcd_CT/single-cell/results2/results/precision_recall/missing_peaks/encode_yesrecall_q10.bed -o /data/proj/GCB_MB/bcd_CT/single-cell/results2/results/precision_recall/encode_yesrecall_peaks_nbiotech_bw_matrix.txt.gz  -p 8  --upstream 10000 --downstream 20000-bl /data/proj/GCB_MB/bcd_CT/single-cell/results2/results/mm10-blacklist.v2.bed &amp; computeMatrix  reference-point  -S /data/proj/GCB_MB/bcd_CT/single-cell/results2/results/encode/bigwig/all_merged.bw -R /data/proj/GCB_MB/bcd_CT/single-cell/results2/results/precision_recall/missing_peaks/encode_yesrecall_q10.bed -o /data/proj/GCB_MB/bcd_CT/single-cell/results2/results/precision_recall/encode_yesrecall_peaks_encode_bw_matrix.txt.gz  -p 8  --upstream 10000 --downstream 20000-bl /data/proj/GCB_MB/bcd_CT/single-cell/results2/results/mm10-blacklist.v2.bed &amp;  &amp;'</span>"
      ],
      "text/plain": [
       "[1] \"computeMatrix  reference-point  -S /data/proj/GCB_MB/bcd_CT/single-cell/results2/results/multimodal_data/single_modality/H3K27me3/bam/possorted_bam_sampleID.bw -R /data/proj/GCB_MB/bcd_CT/single-cell/results2/results/precision_recall/missing_peaks/encode_norecall_q10.bed -o /data/proj/GCB_MB/bcd_CT/single-cell/results2/results/precision_recall/encode_norecall_peaks_nano_bw_matrix.txt.gz  -p 8  --upstream 10000 --downstream 20000-bl /data/proj/GCB_MB/bcd_CT/single-cell/results2/results/mm10-blacklist.v2.bed & computeMatrix reference-point -S /data/proj/GCB_MB/bcd_CT/single-cell/results2/results/nbiotech_data/merged/bw/nbiotech_merged.bw -R /data/proj/GCB_MB/bcd_CT/single-cell/results2/results/precision_recall/missing_peaks/encode_norecall_q10.bed -o /data/proj/GCB_MB/bcd_CT/single-cell/results2/results/precision_recall/encode_norecall_peaks_nbiotech_bw_matrix.txt.gz  -p 8  --upstream 10000 --downstream 20000-bl /data/proj/GCB_MB/bcd_CT/single-cell/results2/results/mm10-blacklist.v2.bed & computeMatrix  reference-point  -S /data/proj/GCB_MB/bcd_CT/single-cell/results2/results/encode/bigwig/all_merged.bw -R /data/proj/GCB_MB/bcd_CT/single-cell/results2/results/precision_recall/missing_peaks/encode_norecall_q10.bed -o /data/proj/GCB_MB/bcd_CT/single-cell/results2/results/precision_recall/encode_norecall_peaks_encode_bw_matrix.txt.gz  -p 8  --upstream 10000 --downstream 20000-bl /data/proj/GCB_MB/bcd_CT/single-cell/results2/results/mm10-blacklist.v2.bed & computeMatrix  reference-point  -S /data/proj/GCB_MB/bcd_CT/single-cell/results2/results/multimodal_data/single_modality/H3K27me3/bam/possorted_bam_sampleID.bw -R /data/proj/GCB_MB/bcd_CT/single-cell/results2/results/precision_recall/missing_peaks/encode_yesrecall_q10.bed -o /data/proj/GCB_MB/bcd_CT/single-cell/results2/results/precision_recall/encode_yesrecall_peaks_nano_bw_matrix.txt.gz  -p 8  --upstream 10000 --downstream 20000-bl /data/proj/GCB_MB/bcd_CT/single-cell/results2/results/mm10-blacklist.v2.bed & computeMatrix  reference-point  -S /data/proj/GCB_MB/bcd_CT/single-cell/results2/results/nbiotech_data/merged/bw/nbiotech_merged.bw -R /data/proj/GCB_MB/bcd_CT/single-cell/results2/results/precision_recall/missing_peaks/encode_yesrecall_q10.bed -o /data/proj/GCB_MB/bcd_CT/single-cell/results2/results/precision_recall/encode_yesrecall_peaks_nbiotech_bw_matrix.txt.gz  -p 8  --upstream 10000 --downstream 20000-bl /data/proj/GCB_MB/bcd_CT/single-cell/results2/results/mm10-blacklist.v2.bed & computeMatrix  reference-point  -S /data/proj/GCB_MB/bcd_CT/single-cell/results2/results/encode/bigwig/all_merged.bw -R /data/proj/GCB_MB/bcd_CT/single-cell/results2/results/precision_recall/missing_peaks/encode_yesrecall_q10.bed -o /data/proj/GCB_MB/bcd_CT/single-cell/results2/results/precision_recall/encode_yesrecall_peaks_encode_bw_matrix.txt.gz  -p 8  --upstream 10000 --downstream 20000-bl /data/proj/GCB_MB/bcd_CT/single-cell/results2/results/mm10-blacklist.v2.bed &  &\""
      ]
     },
     "metadata": {},
     "output_type": "display_data"
    }
   ],
   "source": [
    "paste(cmd.nano,cmd.nbiotech, cmd.encode,cmd.nano2, cmd.nbiotech2,cmd.encode2,' &',sep=' & ')"
   ]
  },
  {
   "cell_type": "code",
   "execution_count": 23,
   "id": "521eb683-f2ab-4b1b-b208-96bfcea96adc",
   "metadata": {},
   "outputs": [],
   "source": [
    "cmd.nbiotech3 <- paste0('computeMatrix ', \n",
    "       'reference-point ',\n",
    "       '-S ',\n",
    "        paste0(nbiotech.files,collapse = ' '),\n",
    "       ' -R ',\n",
    "       paste(c(peaks.nano.path,peaks.scCT.path,peaks.encode.path,collapse=' ')),\n",
    "       ' -o /data/proj/GCB_MB/bcd_CT/single-cell/results2/results/precision_recall/all_peaks_metagene_nbiotech_bw.txt.gz ',\n",
    "       ' -p 8 ', \n",
    "       ' --upstream 10000 --downstream 20000')\n",
    "\n",
    "cmd.nano3 <- paste0('computeMatrix ', \n",
    "       ' reference-point ',\n",
    "       ' -S ',\n",
    "       paste0(nanoCT.files,collapse = ' '),\n",
    "       ' -R ',\n",
    "       paste(c(peaks.nano.path,peaks.scCT.path,peaks.encode.path,collapse=' ')),\n",
    "       ' -o /data/proj/GCB_MB/bcd_CT/single-cell/results2/results/precision_recall/all_peaks_metagene_nanoCT_bw.txt.gz ',\n",
    "       ' -p 8 ', \n",
    "       ' --upstream 10000 --downstream 20000')\n",
    "\n",
    "cmd.encode3 <- paste0('computeMatrix ', \n",
    "       ' reference-point ',\n",
    "       ' -S ',\n",
    "       paste0(encode.files,collapse = ' '),\n",
    "       ' -R ',\n",
    "       paste(c(peaks.nano.path,peaks.scCT.path,peaks.encode.path,collapse=' ')),\n",
    "       ' -o /data/proj/GCB_MB/bcd_CT/single-cell/results2/results/precision_recall/all_peaks_metagene_encode_bw.txt.gz ',\n",
    "       ' -p 8 ', \n",
    "       ' --upstream 10000 --downstream 20000')\n"
   ]
  },
  {
   "cell_type": "code",
   "execution_count": 24,
   "id": "6111c150-0326-4052-ad59-f213ec12c5d6",
   "metadata": {},
   "outputs": [
    {
     "data": {
      "text/html": [
       "31687"
      ],
      "text/latex": [
       "31687"
      ],
      "text/markdown": [
       "31687"
      ],
      "text/plain": [
       "[1] 31687"
      ]
     },
     "metadata": {},
     "output_type": "display_data"
    },
    {
     "data": {
      "text/html": [
       "24027"
      ],
      "text/latex": [
       "24027"
      ],
      "text/markdown": [
       "24027"
      ],
      "text/plain": [
       "[1] 24027"
      ]
     },
     "metadata": {},
     "output_type": "display_data"
    },
    {
     "data": {
      "text/html": [
       "28080"
      ],
      "text/latex": [
       "28080"
      ],
      "text/markdown": [
       "28080"
      ],
      "text/plain": [
       "[1] 28080"
      ]
     },
     "metadata": {},
     "output_type": "display_data"
    }
   ],
   "source": [
    "length(peaks.nano)\n",
    "length(peaks.scCT)\n",
    "length(peaks.encode)\n"
   ]
  },
  {
   "cell_type": "code",
   "execution_count": null,
   "id": "4e2206d8-614c-4f49-8720-336e8398a4bd",
   "metadata": {},
   "outputs": [],
   "source": []
  }
 ],
 "metadata": {
  "kernelspec": {
   "display_name": "R",
   "language": "R",
   "name": "ir"
  },
  "language_info": {
   "codemirror_mode": "r",
   "file_extension": ".r",
   "mimetype": "text/x-r-source",
   "name": "R",
   "pygments_lexer": "r",
   "version": "4.1.1"
  }
 },
 "nbformat": 4,
 "nbformat_minor": 5
}
