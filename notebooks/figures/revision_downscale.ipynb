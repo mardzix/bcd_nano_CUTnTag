{
 "cells": [
  {
   "cell_type": "code",
   "execution_count": 1,
   "id": "300bd4fd-f9f9-4322-9bed-e5fbdc24d7f4",
   "metadata": {},
   "outputs": [
    {
     "name": "stderr",
     "output_type": "stream",
     "text": [
      "Attaching SeuratObject\n",
      "\n"
     ]
    }
   ],
   "source": [
    "library(Seurat)\n",
    "library(Signac)\n",
    "library(ggplot2)"
   ]
  },
  {
   "cell_type": "code",
   "execution_count": 6,
   "id": "77253e65-26e0-48c7-93de-d1755047505e",
   "metadata": {},
   "outputs": [],
   "source": [
    "prefix  <- '/data/proj/GCB_MB/bcd_CT/single-cell/results/downscale/cellranger/H3K27me3/'\n",
    "dataset <- c('nbiotech','nano_CT')\n",
    "\n",
    "files.ls   <- list.files(paste0(prefix, dataset),full.names = TRUE)"
   ]
  },
  {
   "cell_type": "code",
   "execution_count": 7,
   "id": "f888f624-ca34-46f0-81b5-058347102f88",
   "metadata": {},
   "outputs": [
    {
     "data": {
      "text/html": [
       "<style>\n",
       ".list-inline {list-style: none; margin:0; padding: 0}\n",
       ".list-inline>li {display: inline-block}\n",
       ".list-inline>li:not(:last-child)::after {content: \"\\00b7\"; padding: 0 .5ex}\n",
       "</style>\n",
       "<ol class=list-inline><li>'/data/proj/GCB_MB/bcd_CT/single-cell/results/downscale/cellranger/H3K27me3/nano_CT/bcdCT_MB21_02'</li><li>'/data/proj/GCB_MB/bcd_CT/single-cell/results/downscale/cellranger/H3K27me3/nano_CT/bcdCT_MB21_03'</li><li>'/data/proj/GCB_MB/bcd_CT/single-cell/results/downscale/cellranger/H3K27me3/nano_CT/bcdCT_MB21_04'</li><li>'/data/proj/GCB_MB/bcd_CT/single-cell/results/downscale/cellranger/H3K27me3/nano_CT/bcdCT_MB21_05'</li><li>'/data/proj/GCB_MB/bcd_CT/single-cell/results/downscale/cellranger/H3K27me3/nbiotech/H3K27me3_N1'</li><li>'/data/proj/GCB_MB/bcd_CT/single-cell/results/downscale/cellranger/H3K27me3/nbiotech/H3K27me3_N2'</li><li>'/data/proj/GCB_MB/bcd_CT/single-cell/results/downscale/cellranger/H3K27me3/nbiotech/H3K27me3_N3'</li><li>'/data/proj/GCB_MB/bcd_CT/single-cell/results/downscale/cellranger/H3K27me3/nbiotech/H3K27me3_N4'</li></ol>\n"
      ],
      "text/latex": [
       "\\begin{enumerate*}\n",
       "\\item '/data/proj/GCB\\_MB/bcd\\_CT/single-cell/results/downscale/cellranger/H3K27me3/nano\\_CT/bcdCT\\_MB21\\_02'\n",
       "\\item '/data/proj/GCB\\_MB/bcd\\_CT/single-cell/results/downscale/cellranger/H3K27me3/nano\\_CT/bcdCT\\_MB21\\_03'\n",
       "\\item '/data/proj/GCB\\_MB/bcd\\_CT/single-cell/results/downscale/cellranger/H3K27me3/nano\\_CT/bcdCT\\_MB21\\_04'\n",
       "\\item '/data/proj/GCB\\_MB/bcd\\_CT/single-cell/results/downscale/cellranger/H3K27me3/nano\\_CT/bcdCT\\_MB21\\_05'\n",
       "\\item '/data/proj/GCB\\_MB/bcd\\_CT/single-cell/results/downscale/cellranger/H3K27me3/nbiotech/H3K27me3\\_N1'\n",
       "\\item '/data/proj/GCB\\_MB/bcd\\_CT/single-cell/results/downscale/cellranger/H3K27me3/nbiotech/H3K27me3\\_N2'\n",
       "\\item '/data/proj/GCB\\_MB/bcd\\_CT/single-cell/results/downscale/cellranger/H3K27me3/nbiotech/H3K27me3\\_N3'\n",
       "\\item '/data/proj/GCB\\_MB/bcd\\_CT/single-cell/results/downscale/cellranger/H3K27me3/nbiotech/H3K27me3\\_N4'\n",
       "\\end{enumerate*}\n"
      ],
      "text/markdown": [
       "1. '/data/proj/GCB_MB/bcd_CT/single-cell/results/downscale/cellranger/H3K27me3/nano_CT/bcdCT_MB21_02'\n",
       "2. '/data/proj/GCB_MB/bcd_CT/single-cell/results/downscale/cellranger/H3K27me3/nano_CT/bcdCT_MB21_03'\n",
       "3. '/data/proj/GCB_MB/bcd_CT/single-cell/results/downscale/cellranger/H3K27me3/nano_CT/bcdCT_MB21_04'\n",
       "4. '/data/proj/GCB_MB/bcd_CT/single-cell/results/downscale/cellranger/H3K27me3/nano_CT/bcdCT_MB21_05'\n",
       "5. '/data/proj/GCB_MB/bcd_CT/single-cell/results/downscale/cellranger/H3K27me3/nbiotech/H3K27me3_N1'\n",
       "6. '/data/proj/GCB_MB/bcd_CT/single-cell/results/downscale/cellranger/H3K27me3/nbiotech/H3K27me3_N2'\n",
       "7. '/data/proj/GCB_MB/bcd_CT/single-cell/results/downscale/cellranger/H3K27me3/nbiotech/H3K27me3_N3'\n",
       "8. '/data/proj/GCB_MB/bcd_CT/single-cell/results/downscale/cellranger/H3K27me3/nbiotech/H3K27me3_N4'\n",
       "\n",
       "\n"
      ],
      "text/plain": [
       "[1] \"/data/proj/GCB_MB/bcd_CT/single-cell/results/downscale/cellranger/H3K27me3/nano_CT/bcdCT_MB21_02\"\n",
       "[2] \"/data/proj/GCB_MB/bcd_CT/single-cell/results/downscale/cellranger/H3K27me3/nano_CT/bcdCT_MB21_03\"\n",
       "[3] \"/data/proj/GCB_MB/bcd_CT/single-cell/results/downscale/cellranger/H3K27me3/nano_CT/bcdCT_MB21_04\"\n",
       "[4] \"/data/proj/GCB_MB/bcd_CT/single-cell/results/downscale/cellranger/H3K27me3/nano_CT/bcdCT_MB21_05\"\n",
       "[5] \"/data/proj/GCB_MB/bcd_CT/single-cell/results/downscale/cellranger/H3K27me3/nbiotech/H3K27me3_N1\" \n",
       "[6] \"/data/proj/GCB_MB/bcd_CT/single-cell/results/downscale/cellranger/H3K27me3/nbiotech/H3K27me3_N2\" \n",
       "[7] \"/data/proj/GCB_MB/bcd_CT/single-cell/results/downscale/cellranger/H3K27me3/nbiotech/H3K27me3_N3\" \n",
       "[8] \"/data/proj/GCB_MB/bcd_CT/single-cell/results/downscale/cellranger/H3K27me3/nbiotech/H3K27me3_N4\" "
      ]
     },
     "metadata": {},
     "output_type": "display_data"
    }
   ],
   "source": [
    "seurat.nbiotech <- readRDS(file='/data/proj/GCB_MB/bcd_CT/single-cell/results/nbiotech_data/data/seurat/H3K27me3_seurat_object.Rds')\n",
    "seurat.nanoCT   <- \n"
   ]
  },
  {
   "cell_type": "code",
   "execution_count": null,
   "id": "7db2fd7b-2462-44d7-806b-58cead17b7c1",
   "metadata": {},
   "outputs": [],
   "source": []
  }
 ],
 "metadata": {
  "kernelspec": {
   "display_name": "R",
   "language": "R",
   "name": "ir"
  },
  "language_info": {
   "codemirror_mode": "r",
   "file_extension": ".r",
   "mimetype": "text/x-r-source",
   "name": "R",
   "pygments_lexer": "r",
   "version": "4.1.1"
  }
 },
 "nbformat": 4,
 "nbformat_minor": 5
}
